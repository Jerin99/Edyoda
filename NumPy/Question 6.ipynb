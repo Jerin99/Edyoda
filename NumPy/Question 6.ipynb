{
 "cells": [
  {
   "cell_type": "markdown",
   "id": "negative-latter",
   "metadata": {},
   "source": [
    "## Concatenate following arrays along axis=0\n",
    "Ans: x=np.array([[1,2],[3,4]])\n",
    "\n",
    "y=np.array([[5,6]])\n",
    "\n"
   ]
  },
  {
   "cell_type": "code",
   "execution_count": 1,
   "id": "industrial-pitch",
   "metadata": {},
   "outputs": [],
   "source": [
    "import numpy as np"
   ]
  },
  {
   "cell_type": "code",
   "execution_count": 2,
   "id": "applicable-brooks",
   "metadata": {},
   "outputs": [],
   "source": [
    "x=np.array([[1,2],[3,4]])\n",
    "y=np.array([[5,6]])"
   ]
  },
  {
   "cell_type": "code",
   "execution_count": 14,
   "id": "wireless-gossip",
   "metadata": {},
   "outputs": [
    {
     "name": "stdout",
     "output_type": "stream",
     "text": [
      "After concatenation of [[1 2]\n",
      " [3 4]] and [[5 6]] is \n",
      "\"[[1 2]\n",
      " [3 4]\n",
      " [5 6]]\".\n"
     ]
    }
   ],
   "source": [
    "a = np.concatenate((x, y), axis=0)\n",
    "print('After concatenation of {} and {} is \\n\\\"{}\\\".'.format(x,y,a))"
   ]
  }
 ],
 "metadata": {
  "kernelspec": {
   "display_name": "Python 3",
   "language": "python",
   "name": "python3"
  },
  "language_info": {
   "codemirror_mode": {
    "name": "ipython",
    "version": 3
   },
   "file_extension": ".py",
   "mimetype": "text/x-python",
   "name": "python",
   "nbconvert_exporter": "python",
   "pygments_lexer": "ipython3",
   "version": "3.9.2"
  }
 },
 "nbformat": 4,
 "nbformat_minor": 5
}
