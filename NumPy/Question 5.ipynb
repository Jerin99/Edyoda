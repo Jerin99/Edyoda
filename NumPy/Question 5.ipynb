{
 "cells": [
  {
   "cell_type": "markdown",
   "id": "reported-citizenship",
   "metadata": {},
   "source": [
    "## Find Dot product of two arrays\n",
    "\n",
    "f = np.array([1,2])\n",
    "g = np.array([4,5])"
   ]
  },
  {
   "cell_type": "code",
   "execution_count": 1,
   "id": "difficult-vietnamese",
   "metadata": {},
   "outputs": [],
   "source": [
    "import numpy as np"
   ]
  },
  {
   "cell_type": "code",
   "execution_count": 8,
   "id": "legislative-import",
   "metadata": {},
   "outputs": [],
   "source": [
    "f = np.array([1,2])\n",
    "g = np.array([4,5])"
   ]
  },
  {
   "cell_type": "code",
   "execution_count": 9,
   "id": "earned-creation",
   "metadata": {},
   "outputs": [
    {
     "name": "stdout",
     "output_type": "stream",
     "text": [
      "Dot product of [1 2] [4 5] is \"14\"\n"
     ]
    }
   ],
   "source": [
    "a = np.dot(f, g)\n",
    "print('Dot product of {} {} is \\\"{}\\\"'.format(f, g, a))"
   ]
  }
 ],
 "metadata": {
  "kernelspec": {
   "display_name": "Python 3",
   "language": "python",
   "name": "python3"
  },
  "language_info": {
   "codemirror_mode": {
    "name": "ipython",
    "version": 3
   },
   "file_extension": ".py",
   "mimetype": "text/x-python",
   "name": "python",
   "nbconvert_exporter": "python",
   "pygments_lexer": "ipython3",
   "version": "3.9.2"
  }
 },
 "nbformat": 4,
 "nbformat_minor": 5
}
