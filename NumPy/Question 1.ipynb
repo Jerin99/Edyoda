{
 "cells": [
  {
   "cell_type": "markdown",
   "id": "rational-province",
   "metadata": {},
   "source": [
    "## Use numpy to generate array of 25 random numbers sampled from a standard normal distribution"
   ]
  },
  {
   "cell_type": "code",
   "execution_count": 3,
   "id": "robust-rendering",
   "metadata": {},
   "outputs": [],
   "source": [
    "import numpy as np"
   ]
  },
  {
   "cell_type": "code",
   "execution_count": 8,
   "id": "designed-overall",
   "metadata": {},
   "outputs": [
    {
     "name": "stdout",
     "output_type": "stream",
     "text": [
      "[-0.6806416  -0.99407387 -0.42265061  0.1922369   0.41698306 -1.20928758\n",
      "  0.32417736  0.18933964 -1.52504495 -1.06053422  0.86241657  0.00747813\n",
      "  0.50937924  0.06105744  0.32798687  0.85235856 -0.37331609 -0.07201906\n",
      " -0.05178904 -0.1667639   1.91651818 -0.19042678 -1.0356486  -0.72331406\n",
      " -0.53706493]\n"
     ]
    }
   ],
   "source": [
    "a = np.random.normal(size=25)\n",
    "print(a)"
   ]
  }
 ],
 "metadata": {
  "kernelspec": {
   "display_name": "Python 3",
   "language": "python",
   "name": "python3"
  },
  "language_info": {
   "codemirror_mode": {
    "name": "ipython",
    "version": 3
   },
   "file_extension": ".py",
   "mimetype": "text/x-python",
   "name": "python",
   "nbconvert_exporter": "python",
   "pygments_lexer": "ipython3",
   "version": "3.9.2"
  }
 },
 "nbformat": 4,
 "nbformat_minor": 5
}
