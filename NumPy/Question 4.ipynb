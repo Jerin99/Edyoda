{
 "cells": [
  {
   "cell_type": "markdown",
   "id": "serial-stupid",
   "metadata": {},
   "source": [
    "## Create a 10x10 array with random values and find the minimum and maximum values."
   ]
  },
  {
   "cell_type": "code",
   "execution_count": 1,
   "id": "czech-cooperation",
   "metadata": {},
   "outputs": [],
   "source": [
    "import numpy as np"
   ]
  },
  {
   "cell_type": "code",
   "execution_count": 16,
   "id": "decreased-handling",
   "metadata": {},
   "outputs": [
    {
     "name": "stdout",
     "output_type": "stream",
     "text": [
      "Min :  0.004695476192547066\n",
      "Max :  0.9883738380592262\n"
     ]
    }
   ],
   "source": [
    "# help(np.random.rand)\n",
    "np.random.seed(0)\n",
    "a = np.random.rand(10, 10)\n",
    "print('Min : ', a.min())\n",
    "print('Max : ', a.max())"
   ]
  }
 ],
 "metadata": {
  "kernelspec": {
   "display_name": "Python 3",
   "language": "python",
   "name": "python3"
  },
  "language_info": {
   "codemirror_mode": {
    "name": "ipython",
    "version": 3
   },
   "file_extension": ".py",
   "mimetype": "text/x-python",
   "name": "python",
   "nbconvert_exporter": "python",
   "pygments_lexer": "ipython3",
   "version": "3.9.2"
  }
 },
 "nbformat": 4,
 "nbformat_minor": 5
}
