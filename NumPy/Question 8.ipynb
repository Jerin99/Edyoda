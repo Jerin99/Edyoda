{
 "cells": [
  {
   "cell_type": "markdown",
   "id": "silver-involvement",
   "metadata": {},
   "source": [
    "## Sort the numpy array:\n",
    "\n",
    "arr = np.array([10,5,8,4,7,2,3,1])"
   ]
  },
  {
   "cell_type": "code",
   "execution_count": 1,
   "id": "eight-closing",
   "metadata": {},
   "outputs": [],
   "source": [
    "import numpy as np"
   ]
  },
  {
   "cell_type": "code",
   "execution_count": 2,
   "id": "directed-reservoir",
   "metadata": {},
   "outputs": [],
   "source": [
    "arr = np.array([10,5,8,4,7,2,3,1])"
   ]
  },
  {
   "cell_type": "code",
   "execution_count": 7,
   "id": "maritime-opening",
   "metadata": {},
   "outputs": [
    {
     "name": "stdout",
     "output_type": "stream",
     "text": [
      "After sorting :  [ 1  2  3  4  5  7  8 10]\n"
     ]
    }
   ],
   "source": [
    "a = np.sort(arr)\n",
    "print('After sorting : ', a)"
   ]
  }
 ],
 "metadata": {
  "kernelspec": {
   "display_name": "Python 3",
   "language": "python",
   "name": "python3"
  },
  "language_info": {
   "codemirror_mode": {
    "name": "ipython",
    "version": 3
   },
   "file_extension": ".py",
   "mimetype": "text/x-python",
   "name": "python",
   "nbconvert_exporter": "python",
   "pygments_lexer": "ipython3",
   "version": "3.9.2"
  }
 },
 "nbformat": 4,
 "nbformat_minor": 5
}
