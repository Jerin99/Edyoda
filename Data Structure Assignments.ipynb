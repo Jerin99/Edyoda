{
 "cells": [
  {
   "cell_type": "markdown",
   "id": "challenging-disclosure",
   "metadata": {},
   "source": [
    "# 1. Write a program to find all pairs of an integer array whose sum is equal to a given number?"
   ]
  },
  {
   "cell_type": "code",
   "execution_count": 36,
   "id": "welsh-foster",
   "metadata": {},
   "outputs": [
    {
     "name": "stdout",
     "output_type": "stream",
     "text": [
      "[ 1 , 9 ],[ 2 , 8 ],[ 3 , 7 ],[ 4 , 6 ],[ 5 , 5 ],"
     ]
    }
   ],
   "source": [
    "a = [1,2,3,4,5,6,7,8,9,10]\n",
    "b = 10\n",
    "for i in range(int(len(a)/2)):\n",
    "    for j in a:\n",
    "        if a[i]+j==b:\n",
    "            print('[', a[i], ',', j, ']', end=',')"
   ]
  },
  {
   "cell_type": "markdown",
   "id": "hidden-wrapping",
   "metadata": {},
   "source": [
    "# 2. Write a program to reverse an array in place? In place means you cannot create a new array. You have to update the original array.\n",
    "\n"
   ]
  },
  {
   "cell_type": "code",
   "execution_count": 37,
   "id": "sought-prescription",
   "metadata": {},
   "outputs": [
    {
     "name": "stdout",
     "output_type": "stream",
     "text": [
      "[10, 9, 8, 7, 6, 5, 4, 3, 2, 1]\n"
     ]
    }
   ],
   "source": [
    "a = [1,2,3,4,5,6,7,8,9,10]\n",
    "l = len(a)-1\n",
    "for i in range(int(len(a)/2)):\n",
    "    temp = a[i]\n",
    "    a[i] = a[l-i]\n",
    "    a[l-i] = temp\n",
    "print(a)"
   ]
  },
  {
   "cell_type": "markdown",
   "id": "usual-tragedy",
   "metadata": {},
   "source": [
    "# 3. Write a program to check if two strings are a rotation of each other?"
   ]
  },
  {
   "cell_type": "code",
   "execution_count": 38,
   "id": "chronic-spyware",
   "metadata": {},
   "outputs": [
    {
     "name": "stdout",
     "output_type": "stream",
     "text": [
      "First string is rotation of second string\n"
     ]
    }
   ],
   "source": [
    "a = \"abcd\"\n",
    "b = 'dcba'\n",
    "\n",
    "a = a.split()\n",
    "b = b.split()\n",
    "if len(a)==len(b):\n",
    "    for i, j in zip(a, b):\n",
    "        if i==j[-1::-1]:\n",
    "            print('First string is rotation of second string')\n",
    "        else:\n",
    "            print('First string is not rotation of second string')"
   ]
  },
  {
   "cell_type": "markdown",
   "id": "played-paragraph",
   "metadata": {},
   "source": [
    "# 4. Write a program to print the first non-repeated character from a string?"
   ]
  },
  {
   "cell_type": "code",
   "execution_count": 39,
   "id": "backed-cotton",
   "metadata": {},
   "outputs": [
    {
     "name": "stdout",
     "output_type": "stream",
     "text": [
      "f\n"
     ]
    }
   ],
   "source": [
    "a = 'abaaasassbdsdft'\n",
    "for i in range(len(a)):\n",
    "    flag = True\n",
    "    for j in range(len(a)):\n",
    "        if i!=j:\n",
    "            if a[i]==a[j]:\n",
    "                flag=False\n",
    "    if flag==True:\n",
    "        print(a[i])\n",
    "        break"
   ]
  },
  {
   "cell_type": "markdown",
   "id": "valued-ivory",
   "metadata": {},
   "source": [
    "# 5. Read about the Tower of Hanoi algorithm. Write a program to implement it."
   ]
  },
  {
   "cell_type": "code",
   "execution_count": 40,
   "id": "appointed-miami",
   "metadata": {},
   "outputs": [
    {
     "name": "stdout",
     "output_type": "stream",
     "text": [
      "Moving disk  1 from  A  to  C\n",
      "Moving disk  2 from  A  to  B\n",
      "Moving disk  1 from  C  to  B\n",
      "Moving disk  3 from  A  to  C\n",
      "Moving disk  1 from  B  to  A\n",
      "Moving disk  2 from  B  to  C\n",
      "Moving disk  1 from  A  to  C\n"
     ]
    }
   ],
   "source": [
    "def hanoi(n, source, middle, destination):\n",
    "    if n==1:\n",
    "        print('Moving disk ', n, 'from ', source, ' to ', destination)\n",
    "    else:\n",
    "        hanoi(n-1, source, destination, middle)\n",
    "        print('Moving disk ', n, 'from ', source, ' to ', destination)\n",
    "        hanoi(n-1, middle, source, destination)\n",
    "        \n",
    "hanoi(3, 'A', 'B', 'C')"
   ]
  },
  {
   "cell_type": "markdown",
   "id": "naval-escape",
   "metadata": {},
   "source": [
    "# 6. Read about infix, prefix, and postfix expressions. Write a program to convert postfix to prefix expression."
   ]
  },
  {
   "cell_type": "code",
   "execution_count": 41,
   "id": "popular-actress",
   "metadata": {},
   "outputs": [
    {
     "name": "stdout",
     "output_type": "stream",
     "text": [
      "['*-A/BC-/AKL']\n"
     ]
    }
   ],
   "source": [
    "a = 'ABC/-AK/L-*'\n",
    "def convert(data):\n",
    "    stack = []\n",
    "    operators = '* - + /'.split()\n",
    "    for i in range(len(data)):\n",
    "        if data[i] in operators:\n",
    "            operand1 = stack.pop()\n",
    "            operand2 = stack.pop()\n",
    "            temp = data[i]+operand2+operand1\n",
    "            stack.append(temp)\n",
    "        else:\n",
    "            stack.append(data[i])\n",
    "    return stack\n",
    "\n",
    "d = convert(a)\n",
    "print(d)"
   ]
  },
  {
   "cell_type": "markdown",
   "id": "balanced-fleece",
   "metadata": {},
   "source": [
    "# 7. Write a program to convert prefix expression to infix expression."
   ]
  },
  {
   "cell_type": "code",
   "execution_count": 42,
   "id": "premium-horse",
   "metadata": {},
   "outputs": [
    {
     "name": "stdout",
     "output_type": "stream",
     "text": [
      "((A-(B/C))*((A/K)-L))\n"
     ]
    }
   ],
   "source": [
    "def prefixToInfix(prefix):\n",
    "    stack = []\n",
    "    i = len(prefix) - 1\n",
    "    while i >= 0:\n",
    "        if not isOperator(prefix[i]):\n",
    "\n",
    "            stack.append(prefix[i])\n",
    "            i -= 1\n",
    "        else:\n",
    "            str = \"(\" + stack.pop() + prefix[i] + stack.pop() + \")\"\n",
    "            stack.append(str)\n",
    "            i -= 1\n",
    "    return stack.pop()\n",
    "def isOperator(c):\n",
    "    if c == \"*\" or c == \"+\" or c == \"-\" or c == \"/\" or c == \"^\" or c == \"(\" or c == \")\":\n",
    "        return True\n",
    "    else:\n",
    "        return False\n",
    "if __name__==\"__main__\":\n",
    "\tstr = \"*-A/BC-/AKL\"\n",
    "\tprint(prefixToInfix(str))"
   ]
  },
  {
   "cell_type": "markdown",
   "id": "challenging-potential",
   "metadata": {},
   "source": [
    "# 8. Write a program to check if all the brackets are closed in a given code snippet."
   ]
  },
  {
   "cell_type": "code",
   "execution_count": 43,
   "id": "coupled-telling",
   "metadata": {},
   "outputs": [
    {
     "name": "stdout",
     "output_type": "stream",
     "text": [
      "Some of the curly brackets are open in the code snippet\n"
     ]
    }
   ],
   "source": [
    "a = 'if (a==b(c))}'\n",
    "openB = a.count('(')\n",
    "closeB = a.count(')')\n",
    "openS = a.count('[')\n",
    "closeS = a.count(']')\n",
    "openC = a.count('{')\n",
    "closeC = a.count('}')\n",
    "if openB!=closeB:\n",
    "    print('Some of the brackets are open in the code snippet')\n",
    "elif openS!=closeS:\n",
    "    print('Some of the square brackets are open in the code snippet')\n",
    "elif openC!=closeC:\n",
    "    print('Some of the curly brackets are open in the code snippet')\n",
    "else:\n",
    "    print('Looks good')"
   ]
  },
  {
   "cell_type": "markdown",
   "id": "mineral-broadcasting",
   "metadata": {},
   "source": [
    "# 9. Write a program to reverse a stack."
   ]
  },
  {
   "cell_type": "code",
   "execution_count": 33,
   "id": "upset-chart",
   "metadata": {},
   "outputs": [
    {
     "name": "stdout",
     "output_type": "stream",
     "text": [
      "[5, 4, 3, 2, 1]\n"
     ]
    }
   ],
   "source": [
    "class reverse:\n",
    "    s1 = []\n",
    "    def __init__(self, data):\n",
    "        self.element_pop(data)\n",
    "#         if len(s1)==len(data):\n",
    "#             self.display()\n",
    "    def element_pop(self, data):\n",
    "        if len(data)>0:\n",
    "            element = data.pop()\n",
    "            self.element_push(element)\n",
    "            reverse(data)\n",
    "    def element_push(self, data):\n",
    "        self.s1.append(data)\n",
    "    def display(self):\n",
    "        print(self.s1)\n",
    "\n",
    "a = reverse([1,2,3,4,5])\n",
    "a.display()"
   ]
  },
  {
   "cell_type": "markdown",
   "id": "considerable-protein",
   "metadata": {},
   "source": [
    "# 10. Write a program to find the smallest number using a stack."
   ]
  },
  {
   "cell_type": "code",
   "execution_count": 32,
   "id": "covered-warren",
   "metadata": {},
   "outputs": [
    {
     "name": "stdout",
     "output_type": "stream",
     "text": [
      "12\n"
     ]
    }
   ],
   "source": [
    "class smallest(object):\n",
    "   smallest_number=float('inf')\n",
    "   def __init__(self):\n",
    "      self.smallest_number=float('inf')\n",
    "      self.stack = []\n",
    "   def push(self, x):\n",
    "      if x<=self.smallest_number:\n",
    "         self.stack.append(self.smallest_number)\n",
    "         self.smallest_number = x\n",
    "      self.stack.append(x)\n",
    "   def pop(self):\n",
    "      t = self.stack[-1]\n",
    "      self.stack.pop()\n",
    "      if self.smallest_number == t:\n",
    "         self.smallest_number = self.stack[-1]\n",
    "         self.stack.pop()\n",
    "   def ret_small(self):\n",
    "      return self.smallest_number\n",
    "m = smallest()\n",
    "m.push(45)\n",
    "m.push(55)\n",
    "m.push(12)\n",
    "print(m.ret_small())\n"
   ]
  }
 ],
 "metadata": {
  "kernelspec": {
   "display_name": "Python 3",
   "language": "python",
   "name": "python3"
  },
  "language_info": {
   "codemirror_mode": {
    "name": "ipython",
    "version": 3
   },
   "file_extension": ".py",
   "mimetype": "text/x-python",
   "name": "python",
   "nbconvert_exporter": "python",
   "pygments_lexer": "ipython3",
   "version": "3.9.2"
  }
 },
 "nbformat": 4,
 "nbformat_minor": 5
}
