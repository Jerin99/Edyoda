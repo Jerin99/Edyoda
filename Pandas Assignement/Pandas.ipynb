{
 "cells": [
  {
   "cell_type": "code",
   "execution_count": 1,
   "id": "supreme-shadow",
   "metadata": {},
   "outputs": [],
   "source": [
    "import xml.etree.ElementTree as e"
   ]
  },
  {
   "cell_type": "code",
   "execution_count": 3,
   "id": "blank-intro",
   "metadata": {},
   "outputs": [],
   "source": [
    "tree = e.parse(\"Samplexml100.xml\")\n",
    "root = tree.getroot()"
   ]
  },
  {
   "cell_type": "code",
   "execution_count": 9,
   "id": "smoking-sewing",
   "metadata": {},
   "outputs": [],
   "source": [
    "import re"
   ]
  },
  {
   "cell_type": "code",
   "execution_count": 41,
   "id": "derived-attachment",
   "metadata": {},
   "outputs": [
    {
     "name": "stdout",
     "output_type": "stream",
     "text": [
      "None\n",
      "<re.Match object; span=(0, 4), match=\"'id'\">\n",
      "None\n",
      "None\n"
     ]
    }
   ],
   "source": [
    "regex = \"^'.*'$\"\n",
    "a = \"<Element 'id' at 0x7ff9fc582d60>\"\n",
    "b = a.split()\n",
    "b\n",
    "for i in b:\n",
    "    print(re.search(regex, i))\n",
    "# a = [\"asasa\", \"asasasas\", \"asas'aa'a\"]\n",
    "# for i in a:\n",
    "#     print(re.search(regex, str(i)))"
   ]
  },
  {
   "cell_type": "code",
   "execution_count": 67,
   "id": "conceptual-variety",
   "metadata": {},
   "outputs": [
    {
     "name": "stdout",
     "output_type": "stream",
     "text": [
      "'id'\n"
     ]
    },
    {
     "data": {
      "text/plain": [
       "'aida'"
      ]
     },
     "execution_count": 67,
     "metadata": {},
     "output_type": "execute_result"
    }
   ],
   "source": [
    "a = \"'id'\"\n",
    "print(a)\n",
    "a.replace(\"'\", \"\")"
   ]
  },
  {
   "cell_type": "code",
   "execution_count": 99,
   "id": "adjustable-arthur",
   "metadata": {},
   "outputs": [
    {
     "name": "stdout",
     "output_type": "stream",
     "text": [
      "0\n",
      "<Element 'feeds' at 0x7ff9fc582d10>\n"
     ]
    }
   ],
   "source": [
    "l1 = []\n",
    "i=0\n",
    "print(i)\n",
    "for i in root:\n",
    "    for j in i:\n",
    "        l1.append(str(j))\n",
    "    break\n",
    "    i+=1\n",
    "print(i)"
   ]
  },
  {
   "cell_type": "code",
   "execution_count": 70,
   "id": "understanding-result",
   "metadata": {},
   "outputs": [],
   "source": [
    "l2 = []\n",
    "for i in l1:\n",
    "    b = i.split()\n",
    "    for j in b:\n",
    "#         print(j)\n",
    "        obj = re.search(regex, j)\n",
    "        if obj:\n",
    "            data = j[obj.span()[0]:obj.span()[1]]\n",
    "            l2.append(data.replace(\"'\", \"\"))\n",
    "#             l2.append(j[obj.span()[0]:obj.span()[1]])\n",
    "#             print(j[obj.span()[0]:obj.span()[1]])"
   ]
  },
  {
   "cell_type": "code",
   "execution_count": 74,
   "id": "potential-wings",
   "metadata": {},
   "outputs": [
    {
     "data": {
      "text/plain": [
       "['id',\n",
       " 'title',\n",
       " 'description',\n",
       " 'location',\n",
       " 'lng',\n",
       " 'lat',\n",
       " 'userId',\n",
       " 'name',\n",
       " 'isdeleted',\n",
       " 'profilePicture',\n",
       " 'videoUrl',\n",
       " 'images',\n",
       " 'mediatype',\n",
       " 'imagePaths',\n",
       " 'feedsComment',\n",
       " 'commentCount',\n",
       " 'multiMedia',\n",
       " 'likeDislike',\n",
       " 'createdAt',\n",
       " 'code',\n",
       " 'msg']"
      ]
     },
     "execution_count": 74,
     "metadata": {},
     "output_type": "execute_result"
    }
   ],
   "source": [
    "l2"
   ]
  },
  {
   "cell_type": "code",
   "execution_count": 97,
   "id": "sharing-disabled",
   "metadata": {},
   "outputs": [
    {
     "ename": "SyntaxError",
     "evalue": "invalid syntax (<ipython-input-97-b79e00c4556b>, line 6)",
     "output_type": "error",
     "traceback": [
      "\u001b[0;36m  File \u001b[0;32m\"<ipython-input-97-b79e00c4556b>\"\u001b[0;36m, line \u001b[0;32m6\u001b[0m\n\u001b[0;31m    details.append(\"details\":l)\u001b[0m\n\u001b[0m                            ^\u001b[0m\n\u001b[0;31mSyntaxError\u001b[0m\u001b[0;31m:\u001b[0m invalid syntax\n"
     ]
    }
   ],
   "source": [
    "details = {}\n",
    "for i in root:\n",
    "    for j in i:\n",
    "        for k in l2:\n",
    "            l = i.find(k).text\n",
    "            details.append(\"details\":l)\n",
    "#             print(i.find(k).text)\n",
    "#             print(i)\n",
    "#         print(i.find('id').text)\n",
    "#         print(i.find('code').text)\n",
    "        break\n",
    "    print(\"\\n\\n\")"
   ]
  },
  {
   "cell_type": "code",
   "execution_count": null,
   "id": "insured-visitor",
   "metadata": {},
   "outputs": [],
   "source": []
  }
 ],
 "metadata": {
  "kernelspec": {
   "display_name": "Python 3",
   "language": "python",
   "name": "python3"
  },
  "language_info": {
   "codemirror_mode": {
    "name": "ipython",
    "version": 3
   },
   "file_extension": ".py",
   "mimetype": "text/x-python",
   "name": "python",
   "nbconvert_exporter": "python",
   "pygments_lexer": "ipython3",
   "version": "3.9.2"
  }
 },
 "nbformat": 4,
 "nbformat_minor": 5
}
